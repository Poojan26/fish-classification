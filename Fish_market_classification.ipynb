{
 "cells": [
  {
   "cell_type": "code",
   "execution_count": 170,
   "id": "e3604e16",
   "metadata": {},
   "outputs": [],
   "source": [
    "#Importing required libraries\n",
    "import numpy as np # linear algebra\n",
    "import pandas as pd # data processing, CSV file I/O (e.g. pd.read_csv)\n",
    "import matplotlib.pyplot as plt\n",
    "import seaborn as sns\n",
    "\n",
    "from sklearn.preprocessing import LabelEncoder\n",
    "from sklearn.preprocessing import StandardScaler\n",
    "from sklearn.model_selection import train_test_split\n",
    "from sklearn.linear_model import LogisticRegression\n",
    "from sklearn import metrics\n",
    "from sklearn.metrics import accuracy_score"
   ]
  },
  {
   "cell_type": "code",
   "execution_count": 171,
   "id": "0fb0bc01",
   "metadata": {},
   "outputs": [
    {
     "name": "stdout",
     "output_type": "stream",
     "text": [
      "    Species  Weight  Length1  Length2  Length3   Height   Width\n",
      "0     Bream   242.0     23.2     25.4     30.0  11.5200  4.0200\n",
      "1     Bream   290.0     24.0     26.3     31.2  12.4800  4.3056\n",
      "2     Bream   340.0     23.9     26.5     31.1  12.3778  4.6961\n",
      "3     Bream   363.0     26.3     29.0     33.5  12.7300  4.4555\n",
      "4     Bream   430.0     26.5     29.0     34.0  12.4440  5.1340\n",
      "..      ...     ...      ...      ...      ...      ...     ...\n",
      "154   Smelt    12.2     11.5     12.2     13.4   2.0904  1.3936\n",
      "155   Smelt    13.4     11.7     12.4     13.5   2.4300  1.2690\n",
      "156   Smelt    12.2     12.1     13.0     13.8   2.2770  1.2558\n",
      "157   Smelt    19.7     13.2     14.3     15.2   2.8728  2.0672\n",
      "158   Smelt    19.9     13.8     15.0     16.2   2.9322  1.8792\n",
      "\n",
      "[159 rows x 7 columns]\n"
     ]
    }
   ],
   "source": [
    "# Reading data from dataset file \n",
    "df  = pd.read_csv('Fish.csv')\n",
    "print(df)"
   ]
  },
  {
   "cell_type": "code",
   "execution_count": 172,
   "id": "39cc4cdd",
   "metadata": {},
   "outputs": [
    {
     "data": {
      "text/plain": [
       "Species    False\n",
       "Weight     False\n",
       "Length1    False\n",
       "Length2    False\n",
       "Length3    False\n",
       "Height     False\n",
       "Width      False\n",
       "dtype: bool"
      ]
     },
     "execution_count": 172,
     "metadata": {},
     "output_type": "execute_result"
    }
   ],
   "source": [
    "# Data Preprocessing and Data Cleaning\n",
    "\n",
    "#Checking if there is any null value in dataset \n",
    "\n",
    "df.isnull().any()\n"
   ]
  },
  {
   "cell_type": "code",
   "execution_count": 173,
   "id": "9d3725c6",
   "metadata": {},
   "outputs": [
    {
     "name": "stdout",
     "output_type": "stream",
     "text": [
      "{0: 'Bream', 1: 'Parkki', 2: 'Perch', 3: 'Pike', 4: 'Roach', 5: 'Smelt', 6: 'Whitefish'}\n"
     ]
    }
   ],
   "source": [
    "# Because we are going to classify inputs based on species, transforming species column and assigning the numeric values \n",
    "encoder = LabelEncoder()\n",
    "df['Species'] = encoder.fit_transform(df['Species'])\n",
    "\n",
    "# Creating dictionary named species that contains key-value \n",
    "species = {index: type for index, type in enumerate(encoder.classes_)}\n",
    "print(species)"
   ]
  },
  {
   "cell_type": "code",
   "execution_count": 174,
   "id": "6001ed90",
   "metadata": {},
   "outputs": [],
   "source": [
    "# Generating X and Y\n",
    "\n",
    "x = df.drop('Species', axis = 1)\n",
    "#print(x)\n",
    "y = df['Species']"
   ]
  },
  {
   "cell_type": "code",
   "execution_count": 175,
   "id": "7c183ff1",
   "metadata": {},
   "outputs": [],
   "source": [
    "# Training and testing with train size 80% and test size 20% \n",
    "x_train, x_test, y_train, y_test = train_test_split(x,y, test_size=0.3, random_state=0)\n",
    "# sc = StandardScaler()\n",
    "# x_train = sc.fit_transform(x_train)\n",
    "# x_test = sc.transform(x_test)\n",
    "# print(x_train, x_test)"
   ]
  },
  {
   "cell_type": "code",
   "execution_count": 176,
   "id": "77ad422b",
   "metadata": {},
   "outputs": [
    {
     "name": "stdout",
     "output_type": "stream",
     "text": [
      "Model Prediction: [0 5 2 4 2 2 2 3 0 2 3 3 2 2 1 4 4 2 2 0 1 6 2 3 1 0 0 4 2 5 0 2 2 3 0 2 2\n",
      " 0 2 2 2 2 2 0 5 2 4 2] \n",
      "\n",
      "Model Accuracy(%): 85.41666666666666\n"
     ]
    }
   ],
   "source": [
    "# Creating logistic regression model\n",
    "\n",
    "# model = LogisticRegression(C=1.0, class_weight=None, dual=False, fit_intercept=True,intercept_scaling=1, l1_ratio=None, \n",
    "#                            max_iter=1500,multi_class='auto', n_jobs=None, penalty='l2',random_state=123, solver='lbfgs', \n",
    "#                            tol=0.0001, verbose=0,warm_start=False)\n",
    "\n",
    "model = LogisticRegression(max_iter=50000)\n",
    "# Fitting training data in the model\n",
    "model.fit(x_train,y_train)\n",
    "\n",
    "# Making prediction and calculating accuracy\n",
    "prediction = model.predict(x_test)\n",
    "accuracy = accuracy_score(y_test,prediction)\n",
    "\n",
    "print(\"Model Prediction:\",prediction,\"\\n\")\n",
    "print(\"Model Accuracy(%):\",accuracy*100)"
   ]
  },
  {
   "cell_type": "code",
   "execution_count": 177,
   "id": "eaddccdf",
   "metadata": {},
   "outputs": [
    {
     "name": "stdout",
     "output_type": "stream",
     "text": [
      "[0]\n",
      "Bream\n"
     ]
    }
   ],
   "source": [
    "test = model.predict([[242,23.2,25.4,30,11.52,4.02]])\n",
    "print(test)\n",
    "print(species.get(test[0]))"
   ]
  },
  {
   "cell_type": "code",
   "execution_count": 178,
   "id": "69c1c9bd",
   "metadata": {},
   "outputs": [
    {
     "name": "stdout",
     "output_type": "stream",
     "text": [
      "<_io.BufferedWriter name='fish_classification.pkl'>\n"
     ]
    }
   ],
   "source": [
    "# Create a Pickle file \n",
    "import pickle\n",
    "pickle_out = open(\"fish_classification.pkl\",\"wb\")\n",
    "pickle.dump(model,pickle_out)\n",
    "pickle_out.close()\n",
    "print(pickle_out)"
   ]
  }
 ],
 "metadata": {
  "kernelspec": {
   "display_name": "Python 3",
   "language": "python",
   "name": "python3"
  },
  "language_info": {
   "codemirror_mode": {
    "name": "ipython",
    "version": 3
   },
   "file_extension": ".py",
   "mimetype": "text/x-python",
   "name": "python",
   "nbconvert_exporter": "python",
   "pygments_lexer": "ipython3",
   "version": "3.8.8"
  }
 },
 "nbformat": 4,
 "nbformat_minor": 5
}
